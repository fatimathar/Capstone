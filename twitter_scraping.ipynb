{
 "cells": [
  {
   "cell_type": "code",
   "execution_count": 7,
   "metadata": {},
   "outputs": [],
   "source": [
    "import pandas as pd\n",
    "import numpy as np\n",
    "from bs4 import BeautifulSoup\n",
    "import requests\n",
    "from tqdm import tqdm_notebook\n",
    "from pprint import pprint\n",
    "import json"
   ]
  },
  {
   "cell_type": "code",
   "execution_count": null,
   "metadata": {},
   "outputs": [],
   "source": [
    "#soup = Beautifulsoup(html, 'html.parser')"
   ]
  },
  {
   "cell_type": "code",
   "execution_count": 24,
   "metadata": {},
   "outputs": [],
   "source": [
    "\n",
    "\n",
    "twitter_cred = {}\n",
    "\n",
    "twitter_cred['api_key'] = 'Szx3WjWnEJB4zieSOCjyjuoYj'\n",
    "twitter_cred['api_secret_key'] = '53KlBRTSPFkfikL3g4iiXkx4Lssb0ALeqVQijx73RBPnY9M6Il'\n",
    "twitter_cred['access_token_key'] = '389576153-7Ly4ZjV7xWO9teox59UJYgA6NH62yS7FkVbe1v4V'\n",
    "twitter_cred['access_token_secret'] = 'szTqybytedBDllPb4u4B6LPOwMRd5xjCmyVzrsa1IJ9dK'\n",
    "\n",
    "    \n",
    "    \n",
    "with open('twitter_credentials.json', 'w') as secret_info:\n",
    "    json.dump(twitter_cred, secret_info, indent=4, sort_keys=True)"
   ]
  },
  {
   "cell_type": "code",
   "execution_count": 27,
   "metadata": {},
   "outputs": [],
   "source": [
    "import tweepy\n",
    "import csv\n",
    "import json\n",
    "\n",
    "# load Twitter API credentials\n",
    "\n",
    "with open('twitter_credentials.json') as cred_data:\n",
    "    info = json.load(cred_data)\n",
    "    api_key = info['api_key']\n",
    "    api_secret_key = info['api_secret_key']\n",
    "    access_token_key = info['access_token_key']\n",
    "    access_token_secret = info['access_token_secret']\n",
    "\n",
    "def get_all_tweets(screen_name):\n",
    "\n",
    "# Twitter allows access to only 3240 tweets via this method\n",
    "\n",
    "# Authorization and initialization\n",
    "\n",
    "    auth = tweepy.OAuthHandler(api_key, api_secret_key)\n",
    "    auth.set_access_token(access_token_key, access_token_secret)\n",
    "    api = tweepy.API(auth)\n",
    "\n",
    "# initialization of a list to hold all Tweets\n",
    "\n",
    "    all_the_tweets = []\n",
    "\n",
    "# We will get the tweets with multiple requests of 200 tweets each\n",
    "\n",
    "    new_tweets = api.user_timeline(screen_name=screen_name, count=200)\n",
    "\n",
    "# saving the most recent tweets\n",
    "\n",
    "    all_the_tweets.extend(new_tweets)\n",
    "\n",
    "# save id of 1 less than the oldest tweet\n",
    "\n",
    "    oldest_tweet = all_the_tweets[-1].id - 1\n",
    "\n",
    "# grabbing tweets till none are left\n",
    "\n",
    "    while len(new_tweets):\n",
    "# The max_id param will be used subsequently to prevent duplicates\n",
    "        new_tweets = api.user_timeline(screen_name=screen_name,\n",
    "        count=200, max_id=oldest_tweet)\n",
    "\n",
    "# save most recent tweets\n",
    "\n",
    "        all_the_tweets.extend(new_tweets)\n",
    "\n",
    "# id is updated to oldest tweet - 1 to keep track\n",
    "\n",
    "        oldest_tweet = all_the_tweets[-1].id - 1\n",
    "        print ('...%s tweets have been downloaded so far' % len(all_the_tweets))\n",
    "\n",
    "# transforming the tweets into a 2D array that will be used to populate the csv\n",
    "\n",
    "    outtweets = [[tweet.id_str, tweet.created_at,\n",
    "    tweet.text.encode('utf-8')] for tweet in all_the_tweets]\n",
    "\n",
    "# writing to the csv file\n",
    "\n",
    "    with open(screen_name + '_tweets.csv', 'w', encoding='utf8') as f:\n",
    "        writer = csv.writer(f)\n",
    "        writer.writerow(['id', 'created_at', 'text'])\n",
    "        writer.writerows(outtweets)\n",
    "\n",
    "    if __name__ == '__main__':\n",
    "\n",
    "# Enter the twitter handle of the person concerned\n",
    "\n",
    "        get_all_tweets(input(\"Twitter Handle\"))\n"
   ]
  },
  {
   "cell_type": "code",
   "execution_count": null,
   "metadata": {
    "scrolled": true
   },
   "outputs": [
    {
     "name": "stdout",
     "output_type": "stream",
     "text": [
      "...400 tweets have been downloaded so far\n",
      "...600 tweets have been downloaded so far\n",
      "...800 tweets have been downloaded so far\n",
      "...1000 tweets have been downloaded so far\n",
      "...1200 tweets have been downloaded so far\n",
      "...1400 tweets have been downloaded so far\n",
      "...1600 tweets have been downloaded so far\n",
      "...1800 tweets have been downloaded so far\n",
      "...2000 tweets have been downloaded so far\n",
      "...2200 tweets have been downloaded so far\n",
      "...2400 tweets have been downloaded so far\n",
      "...2599 tweets have been downloaded so far\n",
      "...2799 tweets have been downloaded so far\n",
      "...2998 tweets have been downloaded so far\n",
      "...3196 tweets have been downloaded so far\n",
      "...3246 tweets have been downloaded so far\n",
      "...3246 tweets have been downloaded so far\n",
      "Twitter Handle@BorisJohnson\n",
      "...400 tweets have been downloaded so far\n",
      "...600 tweets have been downloaded so far\n",
      "...800 tweets have been downloaded so far\n",
      "...1000 tweets have been downloaded so far\n",
      "...1200 tweets have been downloaded so far\n",
      "...1400 tweets have been downloaded so far\n",
      "...1600 tweets have been downloaded so far\n",
      "...1800 tweets have been downloaded so far\n",
      "...1999 tweets have been downloaded so far\n",
      "...2199 tweets have been downloaded so far\n",
      "...2399 tweets have been downloaded so far\n",
      "...2529 tweets have been downloaded so far\n",
      "...2529 tweets have been downloaded so far\n",
      "Twitter Handle@jeremycorbyn\n",
      "...400 tweets have been downloaded so far\n",
      "...600 tweets have been downloaded so far\n",
      "...800 tweets have been downloaded so far\n",
      "...1000 tweets have been downloaded so far\n",
      "...1200 tweets have been downloaded so far\n",
      "...1400 tweets have been downloaded so far\n",
      "...1600 tweets have been downloaded so far\n",
      "...1800 tweets have been downloaded so far\n",
      "...2000 tweets have been downloaded so far\n",
      "...2200 tweets have been downloaded so far\n",
      "...2400 tweets have been downloaded so far\n",
      "...2600 tweets have been downloaded so far\n",
      "...2800 tweets have been downloaded so far\n",
      "...3000 tweets have been downloaded so far\n",
      "...3200 tweets have been downloaded so far\n",
      "...3222 tweets have been downloaded so far\n",
      "...3222 tweets have been downloaded so far\n",
      "Twitter Handle@joswinson\n",
      "...400 tweets have been downloaded so far\n",
      "...600 tweets have been downloaded so far\n",
      "...800 tweets have been downloaded so far\n",
      "...1000 tweets have been downloaded so far\n",
      "...1199 tweets have been downloaded so far\n",
      "...1399 tweets have been downloaded so far\n",
      "...1599 tweets have been downloaded so far\n",
      "...1799 tweets have been downloaded so far\n",
      "...1999 tweets have been downloaded so far\n",
      "...2199 tweets have been downloaded so far\n",
      "...2396 tweets have been downloaded so far\n",
      "...2596 tweets have been downloaded so far\n",
      "...2795 tweets have been downloaded so far\n",
      "...2995 tweets have been downloaded so far\n",
      "...3195 tweets have been downloaded so far\n",
      "...3198 tweets have been downloaded so far\n",
      "...3198 tweets have been downloaded so far\n"
     ]
    }
   ],
   "source": [
    "get_all_tweets('BarackObama')"
   ]
  },
  {
   "cell_type": "code",
   "execution_count": null,
   "metadata": {},
   "outputs": [],
   "source": []
  }
 ],
 "metadata": {
  "kernelspec": {
   "display_name": "Python 3",
   "language": "python",
   "name": "python3"
  },
  "language_info": {
   "codemirror_mode": {
    "name": "ipython",
    "version": 3
   },
   "file_extension": ".py",
   "mimetype": "text/x-python",
   "name": "python",
   "nbconvert_exporter": "python",
   "pygments_lexer": "ipython3",
   "version": "3.7.3"
  },
  "toc": {
   "base_numbering": 1,
   "nav_menu": {},
   "number_sections": true,
   "sideBar": true,
   "skip_h1_title": false,
   "title_cell": "Table of Contents",
   "title_sidebar": "Contents",
   "toc_cell": false,
   "toc_position": {},
   "toc_section_display": true,
   "toc_window_display": false
  },
  "varInspector": {
   "cols": {
    "lenName": 16,
    "lenType": 16,
    "lenVar": 40
   },
   "kernels_config": {
    "python": {
     "delete_cmd_postfix": "",
     "delete_cmd_prefix": "del ",
     "library": "var_list.py",
     "varRefreshCmd": "print(var_dic_list())"
    },
    "r": {
     "delete_cmd_postfix": ") ",
     "delete_cmd_prefix": "rm(",
     "library": "var_list.r",
     "varRefreshCmd": "cat(var_dic_list()) "
    }
   },
   "types_to_exclude": [
    "module",
    "function",
    "builtin_function_or_method",
    "instance",
    "_Feature"
   ],
   "window_display": false
  }
 },
 "nbformat": 4,
 "nbformat_minor": 2
}
